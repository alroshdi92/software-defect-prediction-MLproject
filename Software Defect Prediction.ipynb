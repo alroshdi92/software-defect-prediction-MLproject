{
 "cells": [
  {
   "cell_type": "markdown",
   "id": "7f191163-754d-4736-880e-2cb268d1e15a",
   "metadata": {},
   "source": [
    "# Machine Learning Project Template"
   ]
  },
  {
   "cell_type": "markdown",
   "id": "fb58a2bf-ca01-43c8-9837-db43c2cd7792",
   "metadata": {},
   "source": [
    "## <b> <font color=green> STEP (1) Problem Definition, Scoping & Framing </font> </b>"
   ]
  },
  {
   "cell_type": "markdown",
   "id": "43e9857d-7229-40bd-a42b-e203fecf8097",
   "metadata": {},
   "source": [
    "### 1.1) Load Libraries"
   ]
  },
  {
   "cell_type": "code",
   "execution_count": 94,
   "id": "f2067365-8894-4bb4-a057-874c569057ed",
   "metadata": {},
   "outputs": [],
   "source": [
    "import pandas as pd\n",
    "import numpy as np\n",
    "import matplotlib.pyplot as plt\n",
    "import seaborn as sns\n",
    "\n",
    "from sklearn.model_selection import train_test_split, GridSearchCV\n",
    "from sklearn.preprocessing import StandardScaler\n",
    "from sklearn.linear_model import LogisticRegression\n",
    "from sklearn.ensemble import RandomForestClassifier, GradientBoostingClassifier , VotingClassifier\n",
    "from sklearn.metrics import classification_report, confusion_matrix, roc_auc_score\n",
    "import joblib"
   ]
  },
  {
   "cell_type": "markdown",
   "id": "b63f9392-a7cb-47b6-a44b-ae8e5b69b9f1",
   "metadata": {},
   "source": [
    "### 1.2) Load The Dataset\n",
    "Load the dataset and display the first few rows."
   ]
  },
  {
   "cell_type": "code",
   "execution_count": 95,
   "id": "f9cd6130-1b66-46e1-9641-0e390f5bd9d3",
   "metadata": {},
   "outputs": [
    {
     "name": "stdout",
     "output_type": "stream",
     "text": [
      "(10885, 22)\n"
     ]
    },
    {
     "data": {
      "text/html": [
       "<div>\n",
       "<style scoped>\n",
       "    .dataframe tbody tr th:only-of-type {\n",
       "        vertical-align: middle;\n",
       "    }\n",
       "\n",
       "    .dataframe tbody tr th {\n",
       "        vertical-align: top;\n",
       "    }\n",
       "\n",
       "    .dataframe thead th {\n",
       "        text-align: right;\n",
       "    }\n",
       "</style>\n",
       "<table border=\"1\" class=\"dataframe\">\n",
       "  <thead>\n",
       "    <tr style=\"text-align: right;\">\n",
       "      <th></th>\n",
       "      <th>loc</th>\n",
       "      <th>v(g)</th>\n",
       "      <th>ev(g)</th>\n",
       "      <th>iv(g)</th>\n",
       "      <th>n</th>\n",
       "      <th>v</th>\n",
       "      <th>l</th>\n",
       "      <th>d</th>\n",
       "      <th>i</th>\n",
       "      <th>e</th>\n",
       "      <th>...</th>\n",
       "      <th>lOCode</th>\n",
       "      <th>lOComment</th>\n",
       "      <th>lOBlank</th>\n",
       "      <th>locCodeAndComment</th>\n",
       "      <th>uniq_Op</th>\n",
       "      <th>uniq_Opnd</th>\n",
       "      <th>total_Op</th>\n",
       "      <th>total_Opnd</th>\n",
       "      <th>branchCount</th>\n",
       "      <th>defects</th>\n",
       "    </tr>\n",
       "  </thead>\n",
       "  <tbody>\n",
       "    <tr>\n",
       "      <th>0</th>\n",
       "      <td>1.1</td>\n",
       "      <td>1.4</td>\n",
       "      <td>1.4</td>\n",
       "      <td>1.4</td>\n",
       "      <td>1.3</td>\n",
       "      <td>1.30</td>\n",
       "      <td>1.30</td>\n",
       "      <td>1.30</td>\n",
       "      <td>1.30</td>\n",
       "      <td>1.30</td>\n",
       "      <td>...</td>\n",
       "      <td>2</td>\n",
       "      <td>2</td>\n",
       "      <td>2</td>\n",
       "      <td>2</td>\n",
       "      <td>1.2</td>\n",
       "      <td>1.2</td>\n",
       "      <td>1.2</td>\n",
       "      <td>1.2</td>\n",
       "      <td>1.4</td>\n",
       "      <td>False</td>\n",
       "    </tr>\n",
       "    <tr>\n",
       "      <th>1</th>\n",
       "      <td>1.0</td>\n",
       "      <td>1.0</td>\n",
       "      <td>1.0</td>\n",
       "      <td>1.0</td>\n",
       "      <td>1.0</td>\n",
       "      <td>1.00</td>\n",
       "      <td>1.00</td>\n",
       "      <td>1.00</td>\n",
       "      <td>1.00</td>\n",
       "      <td>1.00</td>\n",
       "      <td>...</td>\n",
       "      <td>1</td>\n",
       "      <td>1</td>\n",
       "      <td>1</td>\n",
       "      <td>1</td>\n",
       "      <td>1</td>\n",
       "      <td>1</td>\n",
       "      <td>1</td>\n",
       "      <td>1</td>\n",
       "      <td>1</td>\n",
       "      <td>True</td>\n",
       "    </tr>\n",
       "    <tr>\n",
       "      <th>2</th>\n",
       "      <td>72.0</td>\n",
       "      <td>7.0</td>\n",
       "      <td>1.0</td>\n",
       "      <td>6.0</td>\n",
       "      <td>198.0</td>\n",
       "      <td>1134.13</td>\n",
       "      <td>0.05</td>\n",
       "      <td>20.31</td>\n",
       "      <td>55.85</td>\n",
       "      <td>23029.10</td>\n",
       "      <td>...</td>\n",
       "      <td>51</td>\n",
       "      <td>10</td>\n",
       "      <td>8</td>\n",
       "      <td>1</td>\n",
       "      <td>17</td>\n",
       "      <td>36</td>\n",
       "      <td>112</td>\n",
       "      <td>86</td>\n",
       "      <td>13</td>\n",
       "      <td>True</td>\n",
       "    </tr>\n",
       "    <tr>\n",
       "      <th>3</th>\n",
       "      <td>190.0</td>\n",
       "      <td>3.0</td>\n",
       "      <td>1.0</td>\n",
       "      <td>3.0</td>\n",
       "      <td>600.0</td>\n",
       "      <td>4348.76</td>\n",
       "      <td>0.06</td>\n",
       "      <td>17.06</td>\n",
       "      <td>254.87</td>\n",
       "      <td>74202.67</td>\n",
       "      <td>...</td>\n",
       "      <td>129</td>\n",
       "      <td>29</td>\n",
       "      <td>28</td>\n",
       "      <td>2</td>\n",
       "      <td>17</td>\n",
       "      <td>135</td>\n",
       "      <td>329</td>\n",
       "      <td>271</td>\n",
       "      <td>5</td>\n",
       "      <td>True</td>\n",
       "    </tr>\n",
       "    <tr>\n",
       "      <th>4</th>\n",
       "      <td>37.0</td>\n",
       "      <td>4.0</td>\n",
       "      <td>1.0</td>\n",
       "      <td>4.0</td>\n",
       "      <td>126.0</td>\n",
       "      <td>599.12</td>\n",
       "      <td>0.06</td>\n",
       "      <td>17.19</td>\n",
       "      <td>34.86</td>\n",
       "      <td>10297.30</td>\n",
       "      <td>...</td>\n",
       "      <td>28</td>\n",
       "      <td>1</td>\n",
       "      <td>6</td>\n",
       "      <td>0</td>\n",
       "      <td>11</td>\n",
       "      <td>16</td>\n",
       "      <td>76</td>\n",
       "      <td>50</td>\n",
       "      <td>7</td>\n",
       "      <td>True</td>\n",
       "    </tr>\n",
       "  </tbody>\n",
       "</table>\n",
       "<p>5 rows × 22 columns</p>\n",
       "</div>"
      ],
      "text/plain": [
       "     loc  v(g)  ev(g)  iv(g)      n        v     l      d       i         e  \\\n",
       "0    1.1   1.4    1.4    1.4    1.3     1.30  1.30   1.30    1.30      1.30   \n",
       "1    1.0   1.0    1.0    1.0    1.0     1.00  1.00   1.00    1.00      1.00   \n",
       "2   72.0   7.0    1.0    6.0  198.0  1134.13  0.05  20.31   55.85  23029.10   \n",
       "3  190.0   3.0    1.0    3.0  600.0  4348.76  0.06  17.06  254.87  74202.67   \n",
       "4   37.0   4.0    1.0    4.0  126.0   599.12  0.06  17.19   34.86  10297.30   \n",
       "\n",
       "   ...  lOCode  lOComment  lOBlank  locCodeAndComment  uniq_Op  uniq_Opnd  \\\n",
       "0  ...       2          2        2                  2      1.2        1.2   \n",
       "1  ...       1          1        1                  1        1          1   \n",
       "2  ...      51         10        8                  1       17         36   \n",
       "3  ...     129         29       28                  2       17        135   \n",
       "4  ...      28          1        6                  0       11         16   \n",
       "\n",
       "  total_Op total_Opnd branchCount defects  \n",
       "0      1.2        1.2         1.4   False  \n",
       "1        1          1           1    True  \n",
       "2      112         86          13    True  \n",
       "3      329        271           5    True  \n",
       "4       76         50           7    True  \n",
       "\n",
       "[5 rows x 22 columns]"
      ]
     },
     "execution_count": 95,
     "metadata": {},
     "output_type": "execute_result"
    }
   ],
   "source": [
    "df = pd.read_csv('SoftwareDefect.csv')\n",
    "print(df.shape)\n",
    "df.head()\n"
   ]
  },
  {
   "cell_type": "markdown",
   "id": "4b0d5e27-c2d2-4b7e-bd90-5592aea83ccc",
   "metadata": {},
   "source": [
    "## <b> <font color=green> STEP (2) Data Exploration & Understanding </font> </b>"
   ]
  },
  {
   "cell_type": "markdown",
   "id": "ae5b611b-970b-4fa3-ac7d-7e528d160231",
   "metadata": {},
   "source": [
    "### 2.1) Descriptive Statistics\n",
    "Generate summary statistics for the dataset."
   ]
  },
  {
   "cell_type": "code",
   "execution_count": 96,
   "id": "23e6cc6f-80e1-4169-a484-63634eb69f74",
   "metadata": {},
   "outputs": [
    {
     "name": "stdout",
     "output_type": "stream",
     "text": [
      "<class 'pandas.core.frame.DataFrame'>\n",
      "RangeIndex: 10885 entries, 0 to 10884\n",
      "Data columns (total 22 columns):\n",
      " #   Column             Non-Null Count  Dtype  \n",
      "---  ------             --------------  -----  \n",
      " 0   loc                10885 non-null  float64\n",
      " 1   v(g)               10885 non-null  float64\n",
      " 2   ev(g)              10885 non-null  float64\n",
      " 3   iv(g)              10885 non-null  float64\n",
      " 4   n                  10885 non-null  float64\n",
      " 5   v                  10885 non-null  float64\n",
      " 6   l                  10885 non-null  float64\n",
      " 7   d                  10885 non-null  float64\n",
      " 8   i                  10885 non-null  float64\n",
      " 9   e                  10885 non-null  float64\n",
      " 10  b                  10885 non-null  float64\n",
      " 11  t                  10885 non-null  float64\n",
      " 12  lOCode             10885 non-null  int64  \n",
      " 13  lOComment          10885 non-null  int64  \n",
      " 14  lOBlank            10885 non-null  int64  \n",
      " 15  locCodeAndComment  10885 non-null  int64  \n",
      " 16  uniq_Op            10885 non-null  object \n",
      " 17  uniq_Opnd          10885 non-null  object \n",
      " 18  total_Op           10885 non-null  object \n",
      " 19  total_Opnd         10885 non-null  object \n",
      " 20  branchCount        10885 non-null  object \n",
      " 21  defects            10885 non-null  bool   \n",
      "dtypes: bool(1), float64(12), int64(4), object(5)\n",
      "memory usage: 1.8+ MB\n",
      "None\n",
      "\n",
      "                loc          v(g)         ev(g)         iv(g)             n  \\\n",
      "count  10885.000000  10885.000000  10885.000000  10885.000000  10885.000000   \n",
      "mean      42.016178      6.348590      3.401047      4.001599    114.389738   \n",
      "std       76.593332     13.019695      6.771869      9.116889    249.502091   \n",
      "min        1.000000      1.000000      1.000000      1.000000      0.000000   \n",
      "25%       11.000000      2.000000      1.000000      1.000000     14.000000   \n",
      "50%       23.000000      3.000000      1.000000      2.000000     49.000000   \n",
      "75%       46.000000      7.000000      3.000000      4.000000    119.000000   \n",
      "max     3442.000000    470.000000    165.000000    402.000000   8441.000000   \n",
      "\n",
      "                  v             l             d             i             e  \\\n",
      "count  10885.000000  10885.000000  10885.000000  10885.000000  1.088500e+04   \n",
      "mean     673.758017      0.135335     14.177237     29.439544  3.683637e+04   \n",
      "std     1938.856196      0.160538     18.709900     34.418313  4.343678e+05   \n",
      "min        0.000000      0.000000      0.000000      0.000000  0.000000e+00   \n",
      "25%       48.430000      0.030000      3.000000     11.860000  1.619400e+02   \n",
      "50%      217.130000      0.080000      9.090000     21.930000  2.031020e+03   \n",
      "75%      621.480000      0.160000     18.900000     36.780000  1.141643e+04   \n",
      "max    80843.080000      1.300000    418.200000    569.780000  3.107978e+07   \n",
      "\n",
      "                  b             t        lOCode     lOComment      lOBlank  \\\n",
      "count  10885.000000  1.088500e+04  10885.000000  10885.000000  10885.00000   \n",
      "mean       0.224766  2.046465e+03     26.252274      2.737529      4.62554   \n",
      "std        0.646408  2.413154e+04     59.611201      9.008608      9.96813   \n",
      "min        0.000000  0.000000e+00      0.000000      0.000000      0.00000   \n",
      "25%        0.020000  9.000000e+00      4.000000      0.000000      0.00000   \n",
      "50%        0.070000  1.128300e+02     13.000000      0.000000      2.00000   \n",
      "75%        0.210000  6.342500e+02     28.000000      2.000000      5.00000   \n",
      "max       26.950000  1.726655e+06   2824.000000    344.000000    447.00000   \n",
      "\n",
      "       locCodeAndComment  \n",
      "count       10885.000000  \n",
      "mean            0.370785  \n",
      "std             1.907969  \n",
      "min             0.000000  \n",
      "25%             0.000000  \n",
      "50%             0.000000  \n",
      "75%             0.000000  \n",
      "max           108.000000  \n",
      "\n",
      "loc                  0\n",
      "v(g)                 0\n",
      "ev(g)                0\n",
      "iv(g)                0\n",
      "n                    0\n",
      "v                    0\n",
      "l                    0\n",
      "d                    0\n",
      "i                    0\n",
      "e                    0\n",
      "b                    0\n",
      "t                    0\n",
      "lOCode               0\n",
      "lOComment            0\n",
      "lOBlank              0\n",
      "locCodeAndComment    0\n",
      "uniq_Op              0\n",
      "uniq_Opnd            0\n",
      "total_Op             0\n",
      "total_Opnd           0\n",
      "branchCount          0\n",
      "defects              0\n",
      "dtype: int64\n",
      "\n",
      "Index(['loc', 'v(g)', 'ev(g)', 'iv(g)', 'n', 'v', 'l', 'd', 'i', 'e', 'b', 't',\n",
      "       'lOCode', 'lOComment', 'lOBlank', 'locCodeAndComment', 'uniq_Op',\n",
      "       'uniq_Opnd', 'total_Op', 'total_Opnd', 'branchCount', 'defects'],\n",
      "      dtype='object')\n",
      "\n",
      "defects\n",
      "False    8779\n",
      "True     2106\n",
      "Name: count, dtype: int64\n"
     ]
    }
   ],
   "source": [
    "print(df.info())\n",
    "print()\n",
    "print(df.describe())\n",
    "print()\n",
    "print(df.isnull().sum())\n",
    "print()\n",
    "print(df.columns)\n",
    "print()\n",
    "print(df['defects'].value_counts())"
   ]
  },
  {
   "cell_type": "markdown",
   "id": "47b8402a-d91c-425d-b9bd-de3348f16af3",
   "metadata": {},
   "source": [
    "### 2.2) Data Visualizations\n",
    "Visualize the data to identify patterns and relationships."
   ]
  },
  {
   "cell_type": "code",
   "execution_count": 97,
   "id": "31a7b450-1038-4082-a68e-0aff6845e05c",
   "metadata": {},
   "outputs": [
    {
     "data": {
      "image/png": "[encoded data removed]",
      "text/plain": [
       "<Figure size 500x400 with 1 Axes>"
      ]
     },
     "metadata": {},
     "output_type": "display_data"
    },
    {
     "data": {
      "image/png": "[encoded data removed]",
      "text/plain": [
       "<Figure size 1200x1000 with 2 Axes>"
      ]
     },
     "metadata": {},
     "output_type": "display_data"
    }
   ],
   "source": [
    "\n",
    "plt.figure(figsize=(5, 4))\n",
    "sns.countplot(x='defects', data=df)\n",
    "plt.title(\"Distribution of Software Defects\")\n",
    "plt.xlabel(\"Defective (1 = Bug, 0 = No Bug)\")\n",
    "plt.ylabel(\"Count\")\n",
    "plt.show()\n",
    "\n",
    "plt.figure(figsize=(12, 10))\n",
    "sns.heatmap(df.corr(numeric_only=True), cmap='coolwarm', annot=False)\n",
    "plt.title(\"Feature Correlation Heatmap\")\n",
    "plt.show()\n"
   ]
  },
  {
   "cell_type": "markdown",
   "id": "cccdab91-f57a-4fb9-87d9-cb1486d7e477",
   "metadata": {},
   "source": [
    "## <b> <font color=green> STEP (3) Data Preparation & Feature Engineering </font> </b>"
   ]
  },
  {
   "cell_type": "markdown",
   "id": "44442823-a820-4fa6-9d02-d2eba9ec1a8e",
   "metadata": {},
   "source": [
    "### 3.1) Data Cleaning\n",
    "Handle missing values and outliers."
   ]
  },
  {
   "cell_type": "code",
   "execution_count": 98,
   "id": "69716b65-07df-49bd-87d5-db71d3423a76",
   "metadata": {},
   "outputs": [
    {
     "name": "stdout",
     "output_type": "stream",
     "text": [
      "loc                  0\n",
      "v(g)                 0\n",
      "ev(g)                0\n",
      "iv(g)                0\n",
      "n                    0\n",
      "v                    0\n",
      "l                    0\n",
      "d                    0\n",
      "i                    0\n",
      "e                    0\n",
      "b                    0\n",
      "t                    0\n",
      "lOCode               0\n",
      "lOComment            0\n",
      "lOBlank              0\n",
      "locCodeAndComment    0\n",
      "uniq_Op              0\n",
      "uniq_Opnd            0\n",
      "total_Op             0\n",
      "total_Opnd           0\n",
      "branchCount          0\n",
      "defects              0\n",
      "dtype: int64\n",
      "[False  True]\n"
     ]
    }
   ],
   "source": [
    "\n",
    "print(df.isnull().sum())\n",
    "\n",
    "print(df['defects'].unique())\n",
    "\n"
   ]
  },
  {
   "cell_type": "markdown",
   "id": "4e9b83f8-418b-476d-a422-892096f58c09",
   "metadata": {},
   "source": [
    "### 3.1) Feature Selection\n",
    "Select the most relevant features for the model."
   ]
  },
  {
   "cell_type": "code",
   "execution_count": 99,
   "id": "523b61ed-81ec-4769-88d2-252858368211",
   "metadata": {},
   "outputs": [
    {
     "name": "stdout",
     "output_type": "stream",
     "text": [
      "Number of features: 21\n"
     ]
    }
   ],
   "source": [
    "\n",
    "df.replace('?', np.nan, inplace=True)\n",
    "\n",
    "df = df.apply(pd.to_numeric, errors='coerce')\n",
    "\n",
    "\n",
    "\n",
    "df.dropna(inplace=True)\n",
    "\n",
    "\n",
    "print(f\"Number of features: {X.shape[1]}\")"
   ]
  },
  {
   "cell_type": "markdown",
   "id": "2f4b83ae-7c70-4c0b-8421-677148cc986a",
   "metadata": {},
   "source": [
    "### 3.2) Data Transforms\n",
    "Apply transformations to prepare the data for modeling."
   ]
  },
  {
   "cell_type": "code",
   "execution_count": 100,
   "id": "ec636e7e-97cb-46ff-b07d-2fbb05a316a1",
   "metadata": {},
   "outputs": [],
   "source": [
    "X = df.drop('defects', axis=1)\n",
    "y = df['defects']\n",
    "\n",
    "scaler = StandardScaler()\n",
    "X_scaled = scaler.fit_transform(X)"
   ]
  },
  {
   "cell_type": "markdown",
   "id": "7fe515d8-8d1b-4588-b12c-42eb62ebafa3",
   "metadata": {},
   "source": [
    "## <b> <font color=green> STEP (4)  ML Model Selection & Evaluation </font> </b>"
   ]
  },
  {
   "cell_type": "markdown",
   "id": "6628064b-d607-4397-8941-4a33ceb83354",
   "metadata": {},
   "source": [
    "### 4.1) Split-out Validation Dataset\n",
    "Split the dataset into training and validation sets."
   ]
  },
  {
   "cell_type": "code",
   "execution_count": 101,
   "id": "ce9b0bdd-22d6-4721-ae1e-256dbb2e46b7",
   "metadata": {},
   "outputs": [
    {
     "name": "stdout",
     "output_type": "stream",
     "text": [
      "Training: (8704, 21)\n",
      "Testing: (2176, 21)\n"
     ]
    }
   ],
   "source": [
    "\n",
    "X_train, X_test, y_train, y_test = train_test_split(\n",
    "    X_scaled, y, test_size=0.2, random_state=42, stratify=y)\n",
    "\n",
    "print(\"Training:\", X_train.shape)\n",
    "print(\"Testing:\", X_test.shape)"
   ]
  },
  {
   "cell_type": "markdown",
   "id": "8cd1a14a-3cb6-4bf0-817e-1c8263bf6c45",
   "metadata": {},
   "source": [
    "### 4.2) Test Options and Evaluation Metric\n",
    "Define the evaluation metric for the model."
   ]
  },
  {
   "cell_type": "code",
   "execution_count": 102,
   "id": "da26801a-a314-4662-b09b-d78bf6e7967d",
   "metadata": {},
   "outputs": [
    {
     "name": "stdout",
     "output_type": "stream",
     "text": [
      "\n",
      " Logistic Regression\n",
      "[[1288  467]\n",
      " [ 166  255]]\n",
      "              precision    recall  f1-score   support\n",
      "\n",
      "       False       0.89      0.73      0.80      1755\n",
      "        True       0.35      0.61      0.45       421\n",
      "\n",
      "    accuracy                           0.71      2176\n",
      "   macro avg       0.62      0.67      0.62      2176\n",
      "weighted avg       0.78      0.71      0.73      2176\n",
      "\n",
      "ROC AUC: 0.6698019232461038\n",
      "\n",
      " Random Forest\n",
      "[[1663   92]\n",
      " [ 337   84]]\n",
      "              precision    recall  f1-score   support\n",
      "\n",
      "       False       0.83      0.95      0.89      1755\n",
      "        True       0.48      0.20      0.28       421\n",
      "\n",
      "    accuracy                           0.80      2176\n",
      "   macro avg       0.65      0.57      0.58      2176\n",
      "weighted avg       0.76      0.80      0.77      2176\n",
      "\n",
      "ROC AUC: 0.5735516440979624\n",
      "\n",
      " Gradient Boosting\n",
      "[[1699   56]\n",
      " [ 374   47]]\n",
      "              precision    recall  f1-score   support\n",
      "\n",
      "       False       0.82      0.97      0.89      1755\n",
      "        True       0.46      0.11      0.18       421\n",
      "\n",
      "    accuracy                           0.80      2176\n",
      "   macro avg       0.64      0.54      0.53      2176\n",
      "weighted avg       0.75      0.80      0.75      2176\n",
      "\n",
      "ROC AUC: 0.5398650614802634\n"
     ]
    }
   ],
   "source": [
    "models = {\n",
    "    \"Logistic Regression\": LogisticRegression(class_weight='balanced', max_iter=1000),\n",
    "    \"Random Forest\": RandomForestClassifier(class_weight='balanced', random_state=42),\n",
    "    \"Gradient Boosting\": GradientBoostingClassifier(random_state=42)\n",
    "}\n",
    "\n",
    "for name, model in models.items():\n",
    "    print(f\"\\n {name}\")\n",
    "    model.fit(X_train, y_train)\n",
    "    y_pred = model.predict(X_test)\n",
    "    print(confusion_matrix(y_test, y_pred))\n",
    "    print(classification_report(y_test, y_pred))\n",
    "    print(\"ROC AUC:\", roc_auc_score(y_test, y_pred))\n"
   ]
  },
  {
   "cell_type": "markdown",
   "id": "d1b3ba0c-6b19-45ba-84f7-6769649b36d6",
   "metadata": {},
   "source": [
    "### 4.3) Spot Check Algorithms\n",
    "Test multiple algorithms to identify the best-performing one."
   ]
  },
  {
   "cell_type": "code",
   "execution_count": 103,
   "id": "ea7ff1ca-9bbe-44c0-9c83-68031b4b15cb",
   "metadata": {},
   "outputs": [],
   "source": [
    "#output of classification_report"
   ]
  },
  {
   "cell_type": "markdown",
   "id": "a4d804a6-de1b-44dc-884f-890919704e38",
   "metadata": {},
   "source": [
    "## <b> <font color=green> STEP (5)  Performance Tuning & Optimization </font> </b>"
   ]
  },
  {
   "cell_type": "markdown",
   "id": "a59415eb-3234-4ad5-8e08-6336f144c800",
   "metadata": {},
   "source": [
    "### 5.1) Algorithm Tuning\n",
    "Optimize hyperparameters for better performance."
   ]
  },
  {
   "cell_type": "code",
   "execution_count": null,
   "id": "e21c31d9-4f8a-4c5d-b275-b5e247aaad1b",
   "metadata": {},
   "outputs": [],
   "source": [
    "\n",
    "param_grid = {\n",
    "    'n_estimators': [50, 100, 150],\n",
    "    'max_depth': [None, 10, 20],\n",
    "    'min_samples_split': [2, 5, 10]\n",
    "}\n",
    "\n",
    "\n",
    "grid_search = GridSearchCV(\n",
    "    RandomForestClassifier(class_weight='balanced', random_state=42),\n",
    "    param_grid,\n",
    "    scoring='roc_auc',\n",
    "    cv=5,\n",
    "    n_jobs=-1\n",
    ")\n",
    "\n",
    "\n",
    "grid_search.fit(X_train, y_train)\n",
    "\n",
    "\n",
    "print(\"the best :\", grid_search.best_params_)\n",
    "best_model = grid_search.best_estimator_\n"
   ]
  },
  {
   "cell_type": "markdown",
   "id": "47a1bcf0-5154-4989-9514-fbce5562bd95",
   "metadata": {},
   "source": [
    "### 5.2) Ensembles\n",
    "Combine multiple models to improve accuracy."
   ]
  },
  {
   "cell_type": "code",
   "execution_count": null,
   "id": "449ffe21-2f86-4fc0-9c8d-9178cda6b9d9",
   "metadata": {},
   "outputs": [],
   "source": [
    "\n",
    "log_reg = LogisticRegression(class_weight='balanced', max_iter=1000)\n",
    "gbc = GradientBoostingClassifier(random_state=42)\n",
    "\n",
    "voting = VotingClassifier(\n",
    "    estimators=[\n",
    "        ('lr', log_reg),\n",
    "        ('rf', best_rf),\n",
    "        ('gb', gbc)\n",
    "    ],\n",
    "    voting='hard'\n",
    ")\n",
    "\n",
    "\n",
    "voting.fit(X_train, y_train)\n",
    "\n",
    "\n",
    "y_pred = voting.predict(X_test)\n",
    "print(\" Confusion Matrix (Voting):\\n\", confusion_matrix(y_test, y_pred))\n",
    "print(\" Classification Report (Voting):\\n\", classification_report(y_test, y_pred))\n",
    "print(\" ROC AUC Score (Voting):\", roc_auc_score(y_test, y_pred))\n"
   ]
  },
  {
   "cell_type": "markdown",
   "id": "3461a3e7-7263-4064-a4eb-bfa20e4e9a6a",
   "metadata": {},
   "source": [
    "## <b> <font color=green> STEP (6) Results Interpretation & Deployment </font> </b>"
   ]
  },
  {
   "cell_type": "markdown",
   "id": "6a1aa2cb-40dc-4001-ad36-52e426a67280",
   "metadata": {},
   "source": [
    "### 6.1) Predictions on Validation Dataset\n",
    "Make predictions using the validation dataset."
   ]
  },
  {
   "cell_type": "code",
   "execution_count": null,
   "id": "6f7a60e4-8551-4cb3-9553-cf845ff8279a",
   "metadata": {},
   "outputs": [],
   "source": [
    "\n",
    "y_pred = best_rf.predict(X_test)\n",
    "\n",
    "print(\" Confusion Matrix:\\n\", confusion_matrix(y_test, y_pred))\n",
    "print(\" Classification Report:\\n\", classification_report(y_test, y_pred))\n",
    "print(\" ROC AUC Score:\", roc_auc_score(y_test, y_pred))\n"
   ]
  },
  {
   "cell_type": "markdown",
   "id": "01642a09-c9ed-44c6-91f0-b80e3f46df5c",
   "metadata": {},
   "source": [
    "### 6.2) Create Standalone Model on Entire Training Dataset\n",
    "Train the final model on the entire dataset."
   ]
  },
  {
   "cell_type": "code",
   "execution_count": null,
   "id": "d0744785-0d92-45d6-aebb-3f1784ed4db0",
   "metadata": {},
   "outputs": [],
   "source": [
    "\n",
    "final_model = RandomForestClassifier(\n",
    "    class_weight='balanced',\n",
    "    random_state=42,\n",
    "    n_estimators=grid_search.best_params_['n_estimators'],\n",
    "    max_depth=grid_search.best_params_['max_depth'],\n",
    "    min_samples_split=grid_search.best_params_['min_samples_split']\n",
    ")\n",
    "\n",
    "final_model.fit(X_scaled, y) \n"
   ]
  },
  {
   "cell_type": "markdown",
   "id": "36836faa-bb02-4828-87e5-73061c5bfade",
   "metadata": {},
   "source": [
    "### 6.3) Save Model for Later Use\n",
    "Save the trained model to a file."
   ]
  },
  {
   "cell_type": "code",
   "execution_count": null,
   "id": "830e99d1-6e60-4de6-a47d-c397b177893d",
   "metadata": {},
   "outputs": [],
   "source": [
    "\n",
    "joblib.dump(final_model, 'software_bug_classifier.pkl')\n",
    "joblib.dump(scaler, 'scaler.pkl')"
   ]
  },
  {
   "cell_type": "code",
   "execution_count": 93,
   "id": "d81f82cf-8969-4ff3-a8ac-6c07e00dedd1",
   "metadata": {},
   "outputs": [],
   "source": [
    "# load\n",
    "model = joblib.load('software_bug_classifier.pkl')\n",
    "scaler = joblib.load('scaler.pkl')\n",
    "\n",
    "#new data\n",
    "# new_data = pd.DataFrame(...)\n",
    "\n",
    "# new_scaled = scaler.transform(new_data)\n",
    "# prediction = model.predict(new_scaled)\n"
   ]
  },
  {
   "cell_type": "code",
   "execution_count": null,
   "id": "5eda0dba-923d-40b3-a07e-563219f70ce3",
   "metadata": {},
   "outputs": [],
   "source": []
  }
 ],
 "metadata": {
  "kernelspec": {
   "display_name": "(00) Python 3.9 - ML",
   "language": "python",
   "name": "py39_ml"
  },
  "language_info": {
   "codemirror_mode": {
    "name": "ipython",
    "version": 3
   },
   "file_extension": ".py",
   "mimetype": "text/x-python",
   "name": "python",
   "nbconvert_exporter": "python",
   "pygments_lexer": "ipython3",
   "version": "3.9.23"
  }
 },
 "nbformat": 4,
 "nbformat_minor": 5
}
