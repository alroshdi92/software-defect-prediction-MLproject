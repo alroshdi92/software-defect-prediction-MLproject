{
 "cells": [
  {
   "cell_type": "markdown",
   "id": "de442506",
   "metadata": {},
   "source": [
    "# Machine Learning Project Template\n",
    "* This notebook provides a structured template for building an end-to-end machine learning project.\n",
    "* Re-use this notebook througout your learning and in capstone project"
   ]
  },
  {
   "cell_type": "markdown",
   "id": "e0d85653",
   "metadata": {},
   "source": [
    "## <b> <font color=green> STEP (1) Problem Definition, Scoping & Framing </font> </b>"
   ]
  },
  {
   "cell_type": "markdown",
   "id": "96c4b4ec",
   "metadata": {},
   "source": [
    "### 1.1) Load Libraries\n",
    "Import all necessary libraries for the project."
   ]
  },
  {
   "cell_type": "code",
   "execution_count": 1,
   "id": "e9bf752e",
   "metadata": {},
   "outputs": [
    {
     "ename": "ModuleNotFoundError",
     "evalue": "No module named 'matplotlib'",
     "output_type": "error",
     "traceback": [
      "\u001b[31m---------------------------------------------------------------------------\u001b[39m",
      "\u001b[31mModuleNotFoundError\u001b[39m                       Traceback (most recent call last)",
      "\u001b[36mCell\u001b[39m\u001b[36m \u001b[39m\u001b[32mIn[1]\u001b[39m\u001b[32m, line 3\u001b[39m\n\u001b[32m      1\u001b[39m \u001b[38;5;28;01mimport\u001b[39;00m\u001b[38;5;250m \u001b[39m\u001b[34;01mpandas\u001b[39;00m\u001b[38;5;250m \u001b[39m\u001b[38;5;28;01mas\u001b[39;00m\u001b[38;5;250m \u001b[39m\u001b[34;01mpd\u001b[39;00m\n\u001b[32m      2\u001b[39m \u001b[38;5;28;01mimport\u001b[39;00m\u001b[38;5;250m \u001b[39m\u001b[34;01mnumpy\u001b[39;00m\u001b[38;5;250m \u001b[39m\u001b[38;5;28;01mas\u001b[39;00m\u001b[38;5;250m \u001b[39m\u001b[34;01mnp\u001b[39;00m\n\u001b[32m----> \u001b[39m\u001b[32m3\u001b[39m \u001b[38;5;28;01mimport\u001b[39;00m\u001b[38;5;250m \u001b[39m\u001b[34;01mmatplotlib\u001b[39;00m\u001b[34;01m.\u001b[39;00m\u001b[34;01mpyplot\u001b[39;00m\u001b[38;5;250m \u001b[39m\u001b[38;5;28;01mas\u001b[39;00m\u001b[38;5;250m \u001b[39m\u001b[34;01mplt\u001b[39;00m\n\u001b[32m      4\u001b[39m \u001b[38;5;28;01mimport\u001b[39;00m\u001b[38;5;250m \u001b[39m\u001b[34;01mseaborn\u001b[39;00m\u001b[38;5;250m \u001b[39m\u001b[38;5;28;01mas\u001b[39;00m\u001b[38;5;250m \u001b[39m\u001b[34;01msns\u001b[39;00m\n",
      "\u001b[31mModuleNotFoundError\u001b[39m: No module named 'matplotlib'"
     ]
    }
   ],
   "source": [
    "import pandas as pd\n",
    "import numpy as np\n",
    "import matplotlib.pyplot as plt\n",
    "import seaborn as sns"
   ]
  },
  {
   "cell_type": "markdown",
   "id": "f5dfbd75",
   "metadata": {},
   "source": [
    "### 1.2) Load The Dataset\n",
    "Load the dataset and display the first few rows."
   ]
  },
  {
   "cell_type": "code",
   "execution_count": null,
   "id": "698af009",
   "metadata": {},
   "outputs": [],
   "source": [
    "df = pd.read_csv('')"
   ]
  },
  {
   "cell_type": "markdown",
   "id": "c1871519",
   "metadata": {},
   "source": [
    "## <b> <font color=green> STEP (2) Data Exploration & Understanding </font> </b>"
   ]
  },
  {
   "cell_type": "markdown",
   "id": "7d3c97bd",
   "metadata": {},
   "source": [
    "### 2.1) Descriptive Statistics\n",
    "Generate summary statistics for the dataset."
   ]
  },
  {
   "cell_type": "code",
   "execution_count": null,
   "id": "7e06039e",
   "metadata": {},
   "outputs": [],
   "source": [
    "print(df.describe())\n",
    "print(df.info())\n",
    "#print(df['target'].value_counts())"
   ]
  },
  {
   "cell_type": "markdown",
   "id": "63f9a23c",
   "metadata": {},
   "source": [
    "### 2.2) Data Visualizations\n",
    "Visualize the data to identify patterns and relationships."
   ]
  },
  {
   "cell_type": "code",
   "execution_count": null,
   "id": "d8c65ba0",
   "metadata": {},
   "outputs": [],
   "source": [
    "sns.pairplot(df)\n",
    "sns.heatmap(df.corr(), annot=True)"
   ]
  },
  {
   "cell_type": "markdown",
   "id": "31a0d0c9",
   "metadata": {},
   "source": [
    "## <b> <font color=green> STEP (3) Data Preparation & Feature Engineering </font> </b>"
   ]
  },
  {
   "cell_type": "markdown",
   "id": "8066e13d",
   "metadata": {},
   "source": [
    "### 3.1) Data Cleaning\n",
    "Handle missing values and outliers."
   ]
  },
  {
   "cell_type": "code",
   "execution_count": null,
   "id": "786dbe9d",
   "metadata": {},
   "outputs": [],
   "source": [
    "df = df.dropna()"
   ]
  },
  {
   "cell_type": "markdown",
   "id": "8dc52137",
   "metadata": {},
   "source": [
    "### 3.1) Feature Selection\n",
    "Select the most relevant features for the model."
   ]
  },
  {
   "cell_type": "code",
   "execution_count": null,
   "id": "0cec423a",
   "metadata": {},
   "outputs": [],
   "source": []
  },
  {
   "cell_type": "markdown",
   "id": "6c07b048",
   "metadata": {},
   "source": [
    "### 3.2) Data Transforms\n",
    "Apply transformations to prepare the data for modeling."
   ]
  },
  {
   "cell_type": "code",
   "execution_count": null,
   "id": "759c41b7",
   "metadata": {},
   "outputs": [],
   "source": [
    "from sklearn.preprocessing import StandardScaler\n",
    "scaler = StandardScaler()\n",
    "X_scaled = scaler.fit_transform(df.drop('target', axis=1))"
   ]
  },
  {
   "cell_type": "markdown",
   "id": "43084664",
   "metadata": {},
   "source": [
    "## <b> <font color=green> STEP (4)  ML Model Selection & Evaluation </font> </b>"
   ]
  },
  {
   "cell_type": "markdown",
   "id": "e35c7064",
   "metadata": {},
   "source": [
    "### 4.1) Split-out Validation Dataset\n",
    "Split the dataset into training and validation sets."
   ]
  },
  {
   "cell_type": "code",
   "execution_count": null,
   "id": "2c076b1f",
   "metadata": {},
   "outputs": [],
   "source": [
    "from sklearn.model_selection import train_test_split\n",
    "X_train, X_val, y_train, y_val = train_test_split(X_scaled, df['target'], test_size=0.2, random_state=42)"
   ]
  },
  {
   "cell_type": "markdown",
   "id": "60b86d53",
   "metadata": {},
   "source": [
    "### 4.2) Test Options and Evaluation Metric\n",
    "Define the evaluation metric for the model."
   ]
  },
  {
   "cell_type": "code",
   "execution_count": null,
   "id": "8886c258",
   "metadata": {},
   "outputs": [],
   "source": []
  },
  {
   "cell_type": "markdown",
   "id": "83d865b5",
   "metadata": {},
   "source": [
    "### 4.3) Spot Check Algorithms\n",
    "Test multiple algorithms to identify the best-performing one."
   ]
  },
  {
   "cell_type": "code",
   "execution_count": null,
   "id": "f48e912b",
   "metadata": {},
   "outputs": [],
   "source": []
  },
  {
   "cell_type": "markdown",
   "id": "344d39b6",
   "metadata": {},
   "source": [
    "## <b> <font color=green> STEP (4)  Performance Tuning & Optimization </font> </b>"
   ]
  },
  {
   "cell_type": "markdown",
   "id": "315aa69b",
   "metadata": {},
   "source": [
    "### 4.1) Algorithm Tuning\n",
    "Optimize hyperparameters for better performance."
   ]
  },
  {
   "cell_type": "code",
   "execution_count": null,
   "id": "83d48c53",
   "metadata": {},
   "outputs": [],
   "source": []
  },
  {
   "cell_type": "markdown",
   "id": "aa0df54e",
   "metadata": {},
   "source": [
    "### 4.2) Ensembles\n",
    "Combine multiple models to improve accuracy."
   ]
  },
  {
   "cell_type": "code",
   "execution_count": null,
   "id": "051d3e66",
   "metadata": {},
   "outputs": [],
   "source": []
  },
  {
   "cell_type": "markdown",
   "id": "8e47ea8f",
   "metadata": {},
   "source": [
    "## <b> <font color=green> STEP (6) Results Interpretation & Deployment </font> </b>"
   ]
  },
  {
   "cell_type": "markdown",
   "id": "174a8e5e",
   "metadata": {},
   "source": [
    "### 6.1) Predictions on Validation Dataset\n",
    "Make predictions using the validation dataset."
   ]
  },
  {
   "cell_type": "code",
   "execution_count": null,
   "id": "02e4a721",
   "metadata": {},
   "outputs": [],
   "source": []
  },
  {
   "cell_type": "markdown",
   "id": "61b25dc3",
   "metadata": {},
   "source": [
    "### 6.2) Create Standalone Model on Entire Training Dataset\n",
    "Train the final model on the entire dataset."
   ]
  },
  {
   "cell_type": "code",
   "execution_count": null,
   "id": "e4650c5a",
   "metadata": {},
   "outputs": [],
   "source": []
  },
  {
   "cell_type": "markdown",
   "id": "3ce4fee2",
   "metadata": {},
   "source": [
    "### 6.3) Save Model for Later Use\n",
    "Save the trained model to a file."
   ]
  },
  {
   "cell_type": "code",
   "execution_count": null,
   "id": "f99b4d98",
   "metadata": {},
   "outputs": [],
   "source": []
  }
 ],
 "metadata": {
  "kernelspec": {
   "display_name": "Python 3 (ipykernel)",
   "language": "python",
   "name": "python3"
  },
  "language_info": {
   "codemirror_mode": {
    "name": "ipython",
    "version": 3
   },
   "file_extension": ".py",
   "mimetype": "text/x-python",
   "name": "python",
   "nbconvert_exporter": "python",
   "pygments_lexer": "ipython3",
   "version": "3.13.2"
  }
 },
 "nbformat": 4,
 "nbformat_minor": 5
}
